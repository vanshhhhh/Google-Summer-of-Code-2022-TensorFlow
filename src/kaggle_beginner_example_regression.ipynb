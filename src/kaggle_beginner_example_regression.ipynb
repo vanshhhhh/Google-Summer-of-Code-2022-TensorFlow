{
 "cells": [
  {
   "cell_type": "markdown",
   "id": "a6c402b5",
   "metadata": {
    "id": "TyWhqRps0OWy",
    "papermill": {
     "duration": 0.008793,
     "end_time": "2022-09-16T20:44:08.220555",
     "exception": false,
     "start_time": "2022-09-16T20:44:08.211762",
     "status": "completed"
    },
    "tags": []
   },
   "source": [
    "# House Price Prediction using TFDF\n",
    "# Introduction\n",
    "\n",
    "[TensorFlow Decision Forests](https://www.tensorflow.org/decision_forests)\n",
    "is a collection of state-of-the-art algorithms of Decision Forest models\n",
    "that are compatible with [Keras APIs](https://www.tensorflow.org/api_docs/python/tf/keras)\n",
    ".\n",
    "The models include [Random Forests](https://www.tensorflow.org/decision_forests/api_docs/python/tfdf/keras/RandomForestModel),\n",
    "[Gradient Boosted Trees](https://www.tensorflow.org/decision_forests/api_docs/python/tfdf/keras/GradientBoostedTreesModel),\n",
    "and [CART](https://www.tensorflow.org/decision_forests/api_docs/python/tfdf/keras/CartModel),\n",
    "and can be used for regression, classification, and ranking tasks.\n",
    "For a beginner's guide to TensorFlow Decision Forests,\n",
    "please refer to this [tutorial](https://www.tensorflow.org/decision_forests/tutorials/beginner_colab).\n",
    "Decision Forests are a family of tree-based models including Random Forests and Gradient Boosted Trees. They are the best place to start when working with tabular data, and will often outperform (or provide a strong baseline) before you begin experimenting with neural networks.\n",
    "\n",
    "In this example we will use TensorFlow to train each of these on a dataset you load from a CSV file. This is a common pattern in practice. Roughly, your code will look as follows:\n",
    "\n",
    "```\n",
    "import tensorflow_decision_forests as tfdf\n",
    "import pandas as pd\n",
    "  \n",
    "dataset = pd.read_csv(\"project/dataset.csv\")\n",
    "tf_dataset = tfdf.keras.pd_dataframe_to_tf_dataset(dataset, label=\"my_label\",  task=tfdf.keras.Task.REGRESSION)\n",
    "\n",
    "model = tfdf.keras.RandomForestModel()\n",
    "model.fit(tf_dataset)\n",
    "  \n",
    "print(model.summary())\n",
    "```"
   ]
  },
  {
   "cell_type": "markdown",
   "id": "11052b8b",
   "metadata": {
    "id": "bsVRjH3Q1zix",
    "papermill": {
     "duration": 0.007156,
     "end_time": "2022-09-16T20:44:08.235672",
     "exception": false,
     "start_time": "2022-09-16T20:44:08.228516",
     "status": "completed"
    },
    "tags": []
   },
   "source": [
    "## Setup"
   ]
  },
  {
   "cell_type": "markdown",
   "id": "2309c016",
   "metadata": {
    "id": "QnUchC_g2GYq",
    "papermill": {
     "duration": 0.007041,
     "end_time": "2022-09-16T20:44:08.250037",
     "exception": false,
     "start_time": "2022-09-16T20:44:08.242996",
     "status": "completed"
    },
    "tags": []
   },
   "source": [
    "### Install TensorFlow Decision Forests\n",
    "\n",
    "There are many excellent libraries for working with tree-based models, including [scikit-learn](https://scikit-learn.org/) (highly recommended for all your ML needs), XGBoost, LightGBM, and others.\n",
    "\n",
    "In this example we'll use [TensorFlow Decision Forests (TF-DF)](https://www.tensorflow.org/decision_forests), a relatively new library used to train large models. "
   ]
  },
  {
   "cell_type": "code",
   "execution_count": 1,
   "id": "28bdc846",
   "metadata": {
    "_kg_hide-output": true,
    "execution": {
     "iopub.execute_input": "2022-09-16T20:44:08.268242Z",
     "iopub.status.busy": "2022-09-16T20:44:08.267071Z",
     "iopub.status.idle": "2022-09-16T20:46:23.309602Z",
     "shell.execute_reply": "2022-09-16T20:46:23.307661Z"
    },
    "id": "Owv4isvW0Ibd",
    "papermill": {
     "duration": 135.055691,
     "end_time": "2022-09-16T20:46:23.313029",
     "exception": false,
     "start_time": "2022-09-16T20:44:08.257338",
     "status": "completed"
    },
    "tags": []
   },
   "outputs": [
    {
     "name": "stdout",
     "output_type": "stream",
     "text": [
      "\u001b[31mERROR: pip's dependency resolver does not currently take into account all the packages that are installed. This behaviour is the source of the following dependency conflicts.\r\n",
      "tfx-bsl 1.9.0 requires pyarrow<6,>=1, but you have pyarrow 8.0.0 which is incompatible.\r\n",
      "tensorflow-transform 1.9.0 requires pyarrow<6,>=1, but you have pyarrow 8.0.0 which is incompatible.\r\n",
      "tensorflow-io 0.21.0 requires tensorflow<2.7.0,>=2.6.0, but you have tensorflow 2.9.1 which is incompatible.\r\n",
      "tensorflow-io 0.21.0 requires tensorflow-io-gcs-filesystem==0.21.0, but you have tensorflow-io-gcs-filesystem 0.27.0 which is incompatible.\r\n",
      "flax 0.6.0 requires rich~=11.1, but you have rich 12.1.0 which is incompatible.\u001b[0m\u001b[31m\r\n",
      "\u001b[0m"
     ]
    }
   ],
   "source": [
    "!pip install tensorflow==2.9.1 -U -qq\n",
    "!pip install tensorflow_decision_forests==0.2.7 -U -qq"
   ]
  },
  {
   "cell_type": "markdown",
   "id": "b03bbb20",
   "metadata": {
    "id": "8KYFAkqv2NGT",
    "papermill": {
     "duration": 0.006854,
     "end_time": "2022-09-16T20:46:23.329327",
     "exception": false,
     "start_time": "2022-09-16T20:46:23.322473",
     "status": "completed"
    },
    "tags": []
   },
   "source": [
    "### Import the library"
   ]
  },
  {
   "cell_type": "code",
   "execution_count": 2,
   "id": "81281f6c",
   "metadata": {
    "_kg_hide-output": true,
    "execution": {
     "iopub.execute_input": "2022-09-16T20:46:23.346609Z",
     "iopub.status.busy": "2022-09-16T20:46:23.346147Z",
     "iopub.status.idle": "2022-09-16T20:46:28.630673Z",
     "shell.execute_reply": "2022-09-16T20:46:28.629228Z"
    },
    "id": "ALPzaoro2PqP",
    "papermill": {
     "duration": 5.296884,
     "end_time": "2022-09-16T20:46:28.633689",
     "exception": false,
     "start_time": "2022-09-16T20:46:23.336805",
     "status": "completed"
    },
    "tags": []
   },
   "outputs": [
    {
     "name": "stderr",
     "output_type": "stream",
     "text": [
      "2022-09-16 20:46:23.525673: W tensorflow/stream_executor/platform/default/dso_loader.cc:64] Could not load dynamic library 'libcudart.so.11.0'; dlerror: libcudart.so.11.0: cannot open shared object file: No such file or directory; LD_LIBRARY_PATH: /usr/local/cuda/lib64:/usr/local/cuda/lib:/usr/local/lib/x86_64-linux-gnu:/usr/local/nvidia/lib:/usr/local/nvidia/lib64:\n",
      "2022-09-16 20:46:23.525768: I tensorflow/stream_executor/cuda/cudart_stub.cc:29] Ignore above cudart dlerror if you do not have a GPU set up on your machine.\n"
     ]
    }
   ],
   "source": [
    "# Scientific computing # \n",
    "import numpy as np     # Numpy Documentation -  https://numpy.org/doc/stable/ \n",
    "\n",
    "# -  Data processing - #\n",
    "import pandas as pd    # Pandas Documentation - https://pandas.pydata.org/docs/\n",
    "\n",
    "# ---- Tensorflow ---- #\n",
    "import tensorflow as tf\n",
    "import tensorflow_decision_forests as tfdf"
   ]
  },
  {
   "cell_type": "code",
   "execution_count": 3,
   "id": "f19f1f85",
   "metadata": {
    "execution": {
     "iopub.execute_input": "2022-09-16T20:46:28.652786Z",
     "iopub.status.busy": "2022-09-16T20:46:28.652043Z",
     "iopub.status.idle": "2022-09-16T20:46:28.658184Z",
     "shell.execute_reply": "2022-09-16T20:46:28.656841Z"
    },
    "id": "acoTjiUE2U85",
    "outputId": "3cef36ad-4281-4506-ca6f-21980239bf44",
    "papermill": {
     "duration": 0.020454,
     "end_time": "2022-09-16T20:46:28.662273",
     "exception": false,
     "start_time": "2022-09-16T20:46:28.641819",
     "status": "completed"
    },
    "tags": []
   },
   "outputs": [
    {
     "name": "stdout",
     "output_type": "stream",
     "text": [
      "TensorFlow v2.9.1\n",
      "TensorFlow Decision Forests v0.2.7\n"
     ]
    }
   ],
   "source": [
    "print(\"TensorFlow v\" + tf.__version__)\n",
    "print(\"TensorFlow Decision Forests v\" + tfdf.__version__)"
   ]
  },
  {
   "cell_type": "markdown",
   "id": "f190d549",
   "metadata": {
    "id": "kIKEVMNM4_j6",
    "papermill": {
     "duration": 0.007355,
     "end_time": "2022-09-16T20:46:28.679157",
     "exception": false,
     "start_time": "2022-09-16T20:46:28.671802",
     "status": "completed"
    },
    "tags": []
   },
   "source": [
    "# Load the dataset\n",
    "Note: Pandas is practical as you don't have to type in name of the input features to load them. For larger datasets (>1M examples), using the TensorFlow Dataset to read the files may be better suited."
   ]
  },
  {
   "cell_type": "code",
   "execution_count": 4,
   "id": "8f9e96fa",
   "metadata": {
    "execution": {
     "iopub.execute_input": "2022-09-16T20:46:28.695903Z",
     "iopub.status.busy": "2022-09-16T20:46:28.695438Z",
     "iopub.status.idle": "2022-09-16T20:46:28.743665Z",
     "shell.execute_reply": "2022-09-16T20:46:28.742224Z"
    },
    "id": "IowJBo6748-q",
    "outputId": "9ae159b4-2341-44bf-d42d-f98455cc1fea",
    "papermill": {
     "duration": 0.060063,
     "end_time": "2022-09-16T20:46:28.746444",
     "exception": false,
     "start_time": "2022-09-16T20:46:28.686381",
     "status": "completed"
    },
    "tags": []
   },
   "outputs": [
    {
     "name": "stdout",
     "output_type": "stream",
     "text": [
      "Full train dataset shape is (1460, 81)\n"
     ]
    }
   ],
   "source": [
    "train_file_path = \"../input/house-prices-advanced-regression-techniques/train.csv\"\n",
    "train_full_data = pd.read_csv(train_file_path)\n",
    "print(\"Full train dataset shape is {}\".format(train_full_data.shape))"
   ]
  },
  {
   "cell_type": "markdown",
   "id": "843e1874",
   "metadata": {
    "id": "mI2Wp4_G6T5x",
    "papermill": {
     "duration": 0.007181,
     "end_time": "2022-09-16T20:46:28.761315",
     "exception": false,
     "start_time": "2022-09-16T20:46:28.754134",
     "status": "completed"
    },
    "tags": []
   },
   "source": [
    "The data is composed of 81 columns and 1460 entries. We can see all 81 dimensions of our dataset by printing out the first 3 entries using the following code: \n"
   ]
  },
  {
   "cell_type": "code",
   "execution_count": 5,
   "id": "cf5b244f",
   "metadata": {
    "execution": {
     "iopub.execute_input": "2022-09-16T20:46:28.778257Z",
     "iopub.status.busy": "2022-09-16T20:46:28.777776Z",
     "iopub.status.idle": "2022-09-16T20:46:28.815546Z",
     "shell.execute_reply": "2022-09-16T20:46:28.814032Z"
    },
    "id": "JLKHcGRR6Br2",
    "outputId": "b83e0305-fd27-4b63-c134-926854a37027",
    "papermill": {
     "duration": 0.049797,
     "end_time": "2022-09-16T20:46:28.818508",
     "exception": false,
     "start_time": "2022-09-16T20:46:28.768711",
     "status": "completed"
    },
    "tags": []
   },
   "outputs": [
    {
     "data": {
      "text/html": [
       "<div>\n",
       "<style scoped>\n",
       "    .dataframe tbody tr th:only-of-type {\n",
       "        vertical-align: middle;\n",
       "    }\n",
       "\n",
       "    .dataframe tbody tr th {\n",
       "        vertical-align: top;\n",
       "    }\n",
       "\n",
       "    .dataframe thead th {\n",
       "        text-align: right;\n",
       "    }\n",
       "</style>\n",
       "<table border=\"1\" class=\"dataframe\">\n",
       "  <thead>\n",
       "    <tr style=\"text-align: right;\">\n",
       "      <th></th>\n",
       "      <th>Id</th>\n",
       "      <th>MSSubClass</th>\n",
       "      <th>MSZoning</th>\n",
       "      <th>LotFrontage</th>\n",
       "      <th>LotArea</th>\n",
       "      <th>Street</th>\n",
       "      <th>Alley</th>\n",
       "      <th>LotShape</th>\n",
       "      <th>LandContour</th>\n",
       "      <th>Utilities</th>\n",
       "      <th>...</th>\n",
       "      <th>PoolArea</th>\n",
       "      <th>PoolQC</th>\n",
       "      <th>Fence</th>\n",
       "      <th>MiscFeature</th>\n",
       "      <th>MiscVal</th>\n",
       "      <th>MoSold</th>\n",
       "      <th>YrSold</th>\n",
       "      <th>SaleType</th>\n",
       "      <th>SaleCondition</th>\n",
       "      <th>SalePrice</th>\n",
       "    </tr>\n",
       "  </thead>\n",
       "  <tbody>\n",
       "    <tr>\n",
       "      <th>0</th>\n",
       "      <td>1</td>\n",
       "      <td>60</td>\n",
       "      <td>RL</td>\n",
       "      <td>65.0</td>\n",
       "      <td>8450</td>\n",
       "      <td>Pave</td>\n",
       "      <td>NaN</td>\n",
       "      <td>Reg</td>\n",
       "      <td>Lvl</td>\n",
       "      <td>AllPub</td>\n",
       "      <td>...</td>\n",
       "      <td>0</td>\n",
       "      <td>NaN</td>\n",
       "      <td>NaN</td>\n",
       "      <td>NaN</td>\n",
       "      <td>0</td>\n",
       "      <td>2</td>\n",
       "      <td>2008</td>\n",
       "      <td>WD</td>\n",
       "      <td>Normal</td>\n",
       "      <td>208500</td>\n",
       "    </tr>\n",
       "    <tr>\n",
       "      <th>1</th>\n",
       "      <td>2</td>\n",
       "      <td>20</td>\n",
       "      <td>RL</td>\n",
       "      <td>80.0</td>\n",
       "      <td>9600</td>\n",
       "      <td>Pave</td>\n",
       "      <td>NaN</td>\n",
       "      <td>Reg</td>\n",
       "      <td>Lvl</td>\n",
       "      <td>AllPub</td>\n",
       "      <td>...</td>\n",
       "      <td>0</td>\n",
       "      <td>NaN</td>\n",
       "      <td>NaN</td>\n",
       "      <td>NaN</td>\n",
       "      <td>0</td>\n",
       "      <td>5</td>\n",
       "      <td>2007</td>\n",
       "      <td>WD</td>\n",
       "      <td>Normal</td>\n",
       "      <td>181500</td>\n",
       "    </tr>\n",
       "    <tr>\n",
       "      <th>2</th>\n",
       "      <td>3</td>\n",
       "      <td>60</td>\n",
       "      <td>RL</td>\n",
       "      <td>68.0</td>\n",
       "      <td>11250</td>\n",
       "      <td>Pave</td>\n",
       "      <td>NaN</td>\n",
       "      <td>IR1</td>\n",
       "      <td>Lvl</td>\n",
       "      <td>AllPub</td>\n",
       "      <td>...</td>\n",
       "      <td>0</td>\n",
       "      <td>NaN</td>\n",
       "      <td>NaN</td>\n",
       "      <td>NaN</td>\n",
       "      <td>0</td>\n",
       "      <td>9</td>\n",
       "      <td>2008</td>\n",
       "      <td>WD</td>\n",
       "      <td>Normal</td>\n",
       "      <td>223500</td>\n",
       "    </tr>\n",
       "  </tbody>\n",
       "</table>\n",
       "<p>3 rows × 81 columns</p>\n",
       "</div>"
      ],
      "text/plain": [
       "   Id  MSSubClass MSZoning  LotFrontage  LotArea Street Alley LotShape  \\\n",
       "0   1          60       RL         65.0     8450   Pave   NaN      Reg   \n",
       "1   2          20       RL         80.0     9600   Pave   NaN      Reg   \n",
       "2   3          60       RL         68.0    11250   Pave   NaN      IR1   \n",
       "\n",
       "  LandContour Utilities  ... PoolArea PoolQC Fence MiscFeature MiscVal MoSold  \\\n",
       "0         Lvl    AllPub  ...        0    NaN   NaN         NaN       0      2   \n",
       "1         Lvl    AllPub  ...        0    NaN   NaN         NaN       0      5   \n",
       "2         Lvl    AllPub  ...        0    NaN   NaN         NaN       0      9   \n",
       "\n",
       "  YrSold  SaleType  SaleCondition  SalePrice  \n",
       "0   2008        WD         Normal     208500  \n",
       "1   2007        WD         Normal     181500  \n",
       "2   2008        WD         Normal     223500  \n",
       "\n",
       "[3 rows x 81 columns]"
      ]
     },
     "execution_count": 5,
     "metadata": {},
     "output_type": "execute_result"
    }
   ],
   "source": [
    "train_full_data.head(3)"
   ]
  },
  {
   "cell_type": "markdown",
   "id": "9d045681",
   "metadata": {
    "id": "tbbBJsqq7EjW",
    "papermill": {
     "duration": 0.007441,
     "end_time": "2022-09-16T20:46:28.834362",
     "exception": false,
     "start_time": "2022-09-16T20:46:28.826921",
     "status": "completed"
    },
    "tags": []
   },
   "source": [
    "\n",
    "* 79 feature columns.\n",
    "* Label column named `SalePrice`.\n",
    "* We will drop `Id` column as it is not necessary for model training."
   ]
  },
  {
   "cell_type": "code",
   "execution_count": 6,
   "id": "3c699b6b",
   "metadata": {
    "execution": {
     "iopub.execute_input": "2022-09-16T20:46:28.851663Z",
     "iopub.status.busy": "2022-09-16T20:46:28.851186Z",
     "iopub.status.idle": "2022-09-16T20:46:28.861323Z",
     "shell.execute_reply": "2022-09-16T20:46:28.860341Z"
    },
    "id": "0D1xtCjF6fDb",
    "papermill": {
     "duration": 0.021537,
     "end_time": "2022-09-16T20:46:28.863549",
     "exception": false,
     "start_time": "2022-09-16T20:46:28.842012",
     "status": "completed"
    },
    "tags": []
   },
   "outputs": [],
   "source": [
    "train_full_data = train_full_data.drop('Id', axis=1)"
   ]
  },
  {
   "cell_type": "code",
   "execution_count": 7,
   "id": "c8812ac8",
   "metadata": {
    "execution": {
     "iopub.execute_input": "2022-09-16T20:46:28.881369Z",
     "iopub.status.busy": "2022-09-16T20:46:28.880319Z",
     "iopub.status.idle": "2022-09-16T20:46:28.907653Z",
     "shell.execute_reply": "2022-09-16T20:46:28.906547Z"
    },
    "id": "NYaMBKrv8adU",
    "outputId": "e8fc0f1e-3a2c-40e3-c7ca-75227c8ba9a4",
    "papermill": {
     "duration": 0.038871,
     "end_time": "2022-09-16T20:46:28.910307",
     "exception": false,
     "start_time": "2022-09-16T20:46:28.871436",
     "status": "completed"
    },
    "tags": []
   },
   "outputs": [
    {
     "data": {
      "text/html": [
       "<div>\n",
       "<style scoped>\n",
       "    .dataframe tbody tr th:only-of-type {\n",
       "        vertical-align: middle;\n",
       "    }\n",
       "\n",
       "    .dataframe tbody tr th {\n",
       "        vertical-align: top;\n",
       "    }\n",
       "\n",
       "    .dataframe thead th {\n",
       "        text-align: right;\n",
       "    }\n",
       "</style>\n",
       "<table border=\"1\" class=\"dataframe\">\n",
       "  <thead>\n",
       "    <tr style=\"text-align: right;\">\n",
       "      <th></th>\n",
       "      <th>MSSubClass</th>\n",
       "      <th>MSZoning</th>\n",
       "      <th>LotFrontage</th>\n",
       "      <th>LotArea</th>\n",
       "      <th>Street</th>\n",
       "      <th>Alley</th>\n",
       "      <th>LotShape</th>\n",
       "      <th>LandContour</th>\n",
       "      <th>Utilities</th>\n",
       "      <th>LotConfig</th>\n",
       "      <th>...</th>\n",
       "      <th>PoolArea</th>\n",
       "      <th>PoolQC</th>\n",
       "      <th>Fence</th>\n",
       "      <th>MiscFeature</th>\n",
       "      <th>MiscVal</th>\n",
       "      <th>MoSold</th>\n",
       "      <th>YrSold</th>\n",
       "      <th>SaleType</th>\n",
       "      <th>SaleCondition</th>\n",
       "      <th>SalePrice</th>\n",
       "    </tr>\n",
       "  </thead>\n",
       "  <tbody>\n",
       "    <tr>\n",
       "      <th>0</th>\n",
       "      <td>60</td>\n",
       "      <td>RL</td>\n",
       "      <td>65.0</td>\n",
       "      <td>8450</td>\n",
       "      <td>Pave</td>\n",
       "      <td>NaN</td>\n",
       "      <td>Reg</td>\n",
       "      <td>Lvl</td>\n",
       "      <td>AllPub</td>\n",
       "      <td>Inside</td>\n",
       "      <td>...</td>\n",
       "      <td>0</td>\n",
       "      <td>NaN</td>\n",
       "      <td>NaN</td>\n",
       "      <td>NaN</td>\n",
       "      <td>0</td>\n",
       "      <td>2</td>\n",
       "      <td>2008</td>\n",
       "      <td>WD</td>\n",
       "      <td>Normal</td>\n",
       "      <td>208500</td>\n",
       "    </tr>\n",
       "    <tr>\n",
       "      <th>1</th>\n",
       "      <td>20</td>\n",
       "      <td>RL</td>\n",
       "      <td>80.0</td>\n",
       "      <td>9600</td>\n",
       "      <td>Pave</td>\n",
       "      <td>NaN</td>\n",
       "      <td>Reg</td>\n",
       "      <td>Lvl</td>\n",
       "      <td>AllPub</td>\n",
       "      <td>FR2</td>\n",
       "      <td>...</td>\n",
       "      <td>0</td>\n",
       "      <td>NaN</td>\n",
       "      <td>NaN</td>\n",
       "      <td>NaN</td>\n",
       "      <td>0</td>\n",
       "      <td>5</td>\n",
       "      <td>2007</td>\n",
       "      <td>WD</td>\n",
       "      <td>Normal</td>\n",
       "      <td>181500</td>\n",
       "    </tr>\n",
       "    <tr>\n",
       "      <th>2</th>\n",
       "      <td>60</td>\n",
       "      <td>RL</td>\n",
       "      <td>68.0</td>\n",
       "      <td>11250</td>\n",
       "      <td>Pave</td>\n",
       "      <td>NaN</td>\n",
       "      <td>IR1</td>\n",
       "      <td>Lvl</td>\n",
       "      <td>AllPub</td>\n",
       "      <td>Inside</td>\n",
       "      <td>...</td>\n",
       "      <td>0</td>\n",
       "      <td>NaN</td>\n",
       "      <td>NaN</td>\n",
       "      <td>NaN</td>\n",
       "      <td>0</td>\n",
       "      <td>9</td>\n",
       "      <td>2008</td>\n",
       "      <td>WD</td>\n",
       "      <td>Normal</td>\n",
       "      <td>223500</td>\n",
       "    </tr>\n",
       "  </tbody>\n",
       "</table>\n",
       "<p>3 rows × 80 columns</p>\n",
       "</div>"
      ],
      "text/plain": [
       "   MSSubClass MSZoning  LotFrontage  LotArea Street Alley LotShape  \\\n",
       "0          60       RL         65.0     8450   Pave   NaN      Reg   \n",
       "1          20       RL         80.0     9600   Pave   NaN      Reg   \n",
       "2          60       RL         68.0    11250   Pave   NaN      IR1   \n",
       "\n",
       "  LandContour Utilities LotConfig  ... PoolArea PoolQC Fence MiscFeature  \\\n",
       "0         Lvl    AllPub    Inside  ...        0    NaN   NaN         NaN   \n",
       "1         Lvl    AllPub       FR2  ...        0    NaN   NaN         NaN   \n",
       "2         Lvl    AllPub    Inside  ...        0    NaN   NaN         NaN   \n",
       "\n",
       "  MiscVal MoSold  YrSold  SaleType  SaleCondition  SalePrice  \n",
       "0       0      2    2008        WD         Normal     208500  \n",
       "1       0      5    2007        WD         Normal     181500  \n",
       "2       0      9    2008        WD         Normal     223500  \n",
       "\n",
       "[3 rows x 80 columns]"
      ]
     },
     "execution_count": 7,
     "metadata": {},
     "output_type": "execute_result"
    }
   ],
   "source": [
    "train_full_data.head(3)"
   ]
  },
  {
   "cell_type": "markdown",
   "id": "c705cf6e",
   "metadata": {
    "id": "1FwvbbD68j-l",
    "papermill": {
     "duration": 0.007522,
     "end_time": "2022-09-16T20:46:28.926085",
     "exception": false,
     "start_time": "2022-09-16T20:46:28.918563",
     "status": "completed"
    },
    "tags": []
   },
   "source": [
    "Refer to the [competition page](https://www.kaggle.com/competitions/house-prices-advanced-regression-techniques/data) for a comprehensive guide to the data."
   ]
  },
  {
   "cell_type": "markdown",
   "id": "66a5b4f3",
   "metadata": {
    "id": "EVmIGsFw9UvH",
    "papermill": {
     "duration": 0.007788,
     "end_time": "2022-09-16T20:46:28.941580",
     "exception": false,
     "start_time": "2022-09-16T20:46:28.933792",
     "status": "completed"
    },
    "tags": []
   },
   "source": [
    "# Exploratory Data Analysis (EDA)\n",
    "Data scientists use exploratory analysis techniques to analyze and visualize large datasets. This process helps them identify the main characteristics of their data sets and develop effective strategies to get the answers they need. It can also help them spot anomalies and test hypotheses.\n",
    "\n",
    "For this dataset, there are some amazing notebooks already available on Kaggle. One of them is [Detailed exploratory data analysis with python](https://www.kaggle.com/code/ekami66/detailed-exploratory-data-analysis-with-python) by Tuatini Godard."
   ]
  },
  {
   "cell_type": "markdown",
   "id": "dfcd4d99",
   "metadata": {
    "id": "iuMBsmno8q29",
    "papermill": {
     "duration": 0.007638,
     "end_time": "2022-09-16T20:46:28.956962",
     "exception": false,
     "start_time": "2022-09-16T20:46:28.949324",
     "status": "completed"
    },
    "tags": []
   },
   "source": [
    "# Prepare the dataset\n",
    "This dataset contains a mix of numeric, categorical and missing features. TF-DF supports all these feature types natively, and no preprocessing is required. This is one advantage of tree-based models; making them a great entry point to tensorflow and ML."
   ]
  },
  {
   "cell_type": "code",
   "execution_count": 8,
   "id": "4ab122c7",
   "metadata": {
    "execution": {
     "iopub.execute_input": "2022-09-16T20:46:28.976323Z",
     "iopub.status.busy": "2022-09-16T20:46:28.975177Z",
     "iopub.status.idle": "2022-09-16T20:46:28.985576Z",
     "shell.execute_reply": "2022-09-16T20:46:28.984080Z"
    },
    "id": "On2GUosP8zhl",
    "outputId": "dae9d7a8-55e6-4b82-e273-9a277ea7a935",
    "papermill": {
     "duration": 0.022435,
     "end_time": "2022-09-16T20:46:28.988032",
     "exception": false,
     "start_time": "2022-09-16T20:46:28.965597",
     "status": "completed"
    },
    "tags": []
   },
   "outputs": [
    {
     "name": "stdout",
     "output_type": "stream",
     "text": [
      "1306 examples in training, 154 examples in validation.\n"
     ]
    }
   ],
   "source": [
    "def split_dataset(dataset, test_ratio=0.10):\n",
    "  test_indices = np.random.rand(len(dataset)) < test_ratio\n",
    "  return dataset[~test_indices], dataset[test_indices]\n",
    "\n",
    "train_ds_pd, val_ds_pd = split_dataset(train_full_data)\n",
    "print(\"{} examples in training, {} examples in validation.\".format(\n",
    "    len(train_ds_pd), len(val_ds_pd)))"
   ]
  },
  {
   "cell_type": "markdown",
   "id": "030c3347",
   "metadata": {
    "id": "oFZ5M_0l9ARE",
    "papermill": {
     "duration": 0.00774,
     "end_time": "2022-09-16T20:46:29.003956",
     "exception": false,
     "start_time": "2022-09-16T20:46:28.996216",
     "status": "completed"
    },
    "tags": []
   },
   "source": [
    "There's one more step required before you can train your model. You need to convert from Pandas format (`pd.DataFrame`) into TensorFlow format (`tf.data.Dataset`). A single line helper function that will do this for you: \n",
    "\n",
    "```\n",
    "tfdf.keras.pd_dataframe_to_tf_dataset(your_df, label='your_label', task=tfdf.keras.Task.REGRESSION)\n",
    "```\n",
    "\n",
    "This is a high [performance](https://www.tensorflow.org/guide/data_performance) data loading library which is helpful when training neural networks with accelerators like [GPUs](https://cloud.google.com/gpu) and [TPUs](https://cloud.google.com/tpu). It is not necessary for tree-based models until you begin to do distributed training.\n",
    "\n",
    "Note that tf.data is a bit tricky to use, and has a learning curve. There are guides on [tensorflow.org/guide](https://www.tensorflow.org/guide) to help."
   ]
  },
  {
   "cell_type": "code",
   "execution_count": 9,
   "id": "7347af9c",
   "metadata": {
    "_kg_hide-output": true,
    "execution": {
     "iopub.execute_input": "2022-09-16T20:46:29.021581Z",
     "iopub.status.busy": "2022-09-16T20:46:29.021117Z",
     "iopub.status.idle": "2022-09-16T20:46:29.269909Z",
     "shell.execute_reply": "2022-09-16T20:46:29.267437Z"
    },
    "id": "rxqPJkIF88zj",
    "papermill": {
     "duration": 0.26124,
     "end_time": "2022-09-16T20:46:29.273077",
     "exception": false,
     "start_time": "2022-09-16T20:46:29.011837",
     "status": "completed"
    },
    "tags": []
   },
   "outputs": [
    {
     "name": "stderr",
     "output_type": "stream",
     "text": [
      "/opt/conda/lib/python3.7/site-packages/tensorflow_decision_forests/keras/core.py:2574: FutureWarning: In a future version of pandas all arguments of DataFrame.drop except for the argument 'labels' will be keyword-only\n",
      "  features_dataframe = dataframe.drop(label, 1)\n",
      "2022-09-16 20:46:29.061044: W tensorflow/stream_executor/platform/default/dso_loader.cc:64] Could not load dynamic library 'libcuda.so.1'; dlerror: libcuda.so.1: cannot open shared object file: No such file or directory; LD_LIBRARY_PATH: /usr/local/cuda/lib64:/usr/local/cuda/lib:/usr/local/lib/x86_64-linux-gnu:/usr/local/nvidia/lib:/usr/local/nvidia/lib64:\n",
      "2022-09-16 20:46:29.061113: W tensorflow/stream_executor/cuda/cuda_driver.cc:269] failed call to cuInit: UNKNOWN ERROR (303)\n",
      "2022-09-16 20:46:29.061156: I tensorflow/stream_executor/cuda/cuda_diagnostics.cc:156] kernel driver does not appear to be running on this host (3afcafd27a4a): /proc/driver/nvidia/version does not exist\n",
      "2022-09-16 20:46:29.061563: I tensorflow/core/platform/cpu_feature_guard.cc:193] This TensorFlow binary is optimized with oneAPI Deep Neural Network Library (oneDNN) to use the following CPU instructions in performance-critical operations:  AVX2 FMA\n",
      "To enable them in other operations, rebuild TensorFlow with the appropriate compiler flags.\n"
     ]
    }
   ],
   "source": [
    "label = 'SalePrice'\n",
    "train_ds = tfdf.keras.pd_dataframe_to_tf_dataset(\n",
    "    train_ds_pd, \n",
    "    label = label, \n",
    "    task = tfdf.keras.Task.REGRESSION)\n",
    "\n",
    "val_ds = tfdf.keras.pd_dataframe_to_tf_dataset(\n",
    "    val_ds_pd, \n",
    "    label = label, \n",
    "    task = tfdf.keras.Task.REGRESSION)"
   ]
  },
  {
   "cell_type": "markdown",
   "id": "8fe0dc65",
   "metadata": {
    "id": "CWPFwnil91Sz",
    "papermill": {
     "duration": 0.007801,
     "end_time": "2022-09-16T20:46:29.289708",
     "exception": false,
     "start_time": "2022-09-16T20:46:29.281907",
     "status": "completed"
    },
    "tags": []
   },
   "source": [
    "# Create and train a Random Forest "
   ]
  },
  {
   "cell_type": "code",
   "execution_count": 10,
   "id": "588ee093",
   "metadata": {
    "_kg_hide-output": true,
    "execution": {
     "iopub.execute_input": "2022-09-16T20:46:29.307611Z",
     "iopub.status.busy": "2022-09-16T20:46:29.307172Z",
     "iopub.status.idle": "2022-09-16T20:46:29.329549Z",
     "shell.execute_reply": "2022-09-16T20:46:29.328173Z"
    },
    "id": "6e5pzMiy9R7-",
    "papermill": {
     "duration": 0.034387,
     "end_time": "2022-09-16T20:46:29.332120",
     "exception": false,
     "start_time": "2022-09-16T20:46:29.297733",
     "status": "completed"
    },
    "tags": []
   },
   "outputs": [
    {
     "name": "stdout",
     "output_type": "stream",
     "text": [
      "Use /tmp/tmp45m6f4hw as temporary training directory\n"
     ]
    }
   ],
   "source": [
    "model = tfdf.keras.RandomForestModel(task = tfdf.keras.Task.REGRESSION)"
   ]
  },
  {
   "cell_type": "code",
   "execution_count": 11,
   "id": "637c2f99",
   "metadata": {
    "execution": {
     "iopub.execute_input": "2022-09-16T20:46:29.351388Z",
     "iopub.status.busy": "2022-09-16T20:46:29.350979Z",
     "iopub.status.idle": "2022-09-16T20:46:42.437267Z",
     "shell.execute_reply": "2022-09-16T20:46:42.436287Z"
    },
    "id": "tAKbDDEk9559",
    "papermill": {
     "duration": 13.098642,
     "end_time": "2022-09-16T20:46:42.439565",
     "exception": false,
     "start_time": "2022-09-16T20:46:29.340923",
     "status": "completed"
    },
    "tags": []
   },
   "outputs": [
    {
     "name": "stdout",
     "output_type": "stream",
     "text": [
      "Reading training dataset...\n",
      "Training dataset read in 0:00:06.966001. Found 1306 examples.\n",
      "Training model...\n"
     ]
    },
    {
     "name": "stderr",
     "output_type": "stream",
     "text": [
      "[INFO kernel.cc:1176] Loading model from path /tmp/tmp45m6f4hw/model/ with prefix 4f7c211671c1484c\n"
     ]
    },
    {
     "name": "stdout",
     "output_type": "stream",
     "text": [
      "Model trained in 0:00:02.976722\n",
      "Compiling model...\n"
     ]
    },
    {
     "name": "stderr",
     "output_type": "stream",
     "text": [
      "[INFO abstract_model.cc:1248] Engine \"RandomForestOptPred\" built\n",
      "[INFO kernel.cc:1022] Use fast generic engine\n"
     ]
    },
    {
     "name": "stdout",
     "output_type": "stream",
     "text": [
      "WARNING: AutoGraph could not transform <function simple_ml_inference_op_with_handle at 0x7f3fd7986c20> and will run it as-is.\n",
      "Please report this to the TensorFlow team. When filing the bug, set the verbosity to 10 (on Linux, `export AUTOGRAPH_VERBOSITY=10`) and attach the full output.\n",
      "Cause: could not get source code\n",
      "To silence this warning, decorate the function with @tf.autograph.experimental.do_not_convert\n",
      "Model compiled.\n"
     ]
    },
    {
     "data": {
      "text/plain": [
       "<keras.callbacks.History at 0x7f3fd7cbbf50>"
      ]
     },
     "execution_count": 11,
     "metadata": {},
     "output_type": "execute_result"
    }
   ],
   "source": [
    "model.compile(metrics=[\"mse\"])\n",
    "model.fit(x=train_ds)"
   ]
  },
  {
   "cell_type": "markdown",
   "id": "54f26177",
   "metadata": {
    "id": "OLJmocAJ-K8V",
    "papermill": {
     "duration": 0.008384,
     "end_time": "2022-09-16T20:46:42.457391",
     "exception": false,
     "start_time": "2022-09-16T20:46:42.449007",
     "status": "completed"
    },
    "tags": []
   },
   "source": [
    "# Visualize your model\n",
    "One benefit of tree-based models is that you can easily visualize them. The default number of trees used in the Random Forest is 300. You can select a tree to display below."
   ]
  },
  {
   "cell_type": "code",
   "execution_count": 12,
   "id": "b4b2e825",
   "metadata": {
    "execution": {
     "iopub.execute_input": "2022-09-16T20:46:42.477970Z",
     "iopub.status.busy": "2022-09-16T20:46:42.477035Z",
     "iopub.status.idle": "2022-09-16T20:46:42.508700Z",
     "shell.execute_reply": "2022-09-16T20:46:42.507238Z"
    },
    "id": "XQPFj9-V-AKF",
    "outputId": "55ab10b0-d64c-4300-fcc4-afcb25bae79c",
    "papermill": {
     "duration": 0.044819,
     "end_time": "2022-09-16T20:46:42.511244",
     "exception": false,
     "start_time": "2022-09-16T20:46:42.466425",
     "status": "completed"
    },
    "tags": []
   },
   "outputs": [
    {
     "data": {
      "text/html": [
       "\n",
       "<script src=\"https://d3js.org/d3.v6.min.js\"></script>\n",
       "<div id=\"tree_plot_0dfb73ab9402403d8df7faf48f9b4e81\"></div>\n",
       "<script>\n",
       "/*\n",
       " * Copyright 2021 Google LLC.\n",
       " * Licensed under the Apache License, Version 2.0 (the \"License\");\n",
       " * you may not use this file except in compliance with the License.\n",
       " * You may obtain a copy of the License at\n",
       " *\n",
       " *     https://www.apache.org/licenses/LICENSE-2.0\n",
       " *\n",
       " * Unless required by applicable law or agreed to in writing, software\n",
       " * distributed under the License is distributed on an \"AS IS\" BASIS,\n",
       " * WITHOUT WARRANTIES OR CONDITIONS OF ANY KIND, either express or implied.\n",
       " * See the License for the specific language governing permissions and\n",
       " * limitations under the License.\n",
       " */\n",
       "\n",
       "/**\n",
       " *  Plotting of decision trees generated by TF-DF.\n",
       " *\n",
       " *  A tree is a recursive structure of node objects.\n",
       " *  A node contains one or more of the following components:\n",
       " *\n",
       " *    - A value: Representing the output of the node. If the node is not a leaf,\n",
       " *      the value is only present for analysis i.e. it is not used for\n",
       " *      predictions.\n",
       " *\n",
       " *    - A condition : For non-leaf nodes, the condition (also known as split)\n",
       " *      defines a binary test to branch to the positive or negative child.\n",
       " *\n",
       " *    - An explanation: Generally a plot showing the relation between the label\n",
       " *      and the condition to give insights about the effect of the condition.\n",
       " *\n",
       " *    - Two children : For non-leaf nodes, the children nodes. The first\n",
       " *      children (i.e. \"node.children[0]\") is the negative children (drawn in\n",
       " *      red). The second children is the positive one (drawn in green).\n",
       " *\n",
       " */\n",
       "\n",
       "/**\n",
       " * Plots a single decision tree into a DOM element.\n",
       " * @param {!options} options Dictionary of configurations.\n",
       " * @param {!tree} raw_tree Recursive tree structure.\n",
       " * @param {string} canvas_id Id of the output dom element.\n",
       " */\n",
       "function display_tree(options, raw_tree, canvas_id) {\n",
       "  console.log(options);\n",
       "\n",
       "  // Determine the node placement.\n",
       "  const tree_struct = d3.tree().nodeSize(\n",
       "      [options.node_y_offset, options.node_x_offset])(d3.hierarchy(raw_tree));\n",
       "\n",
       "  // Boundaries of the node placement.\n",
       "  let x_min = Infinity;\n",
       "  let x_max = -x_min;\n",
       "  let y_min = Infinity;\n",
       "  let y_max = -x_min;\n",
       "\n",
       "  tree_struct.each(d => {\n",
       "    if (d.x > x_max) x_max = d.x;\n",
       "    if (d.x < x_min) x_min = d.x;\n",
       "    if (d.y > y_max) y_max = d.y;\n",
       "    if (d.y < y_min) y_min = d.y;\n",
       "  });\n",
       "\n",
       "  // Size of the plot.\n",
       "  const width = y_max - y_min + options.node_x_size + options.margin * 2;\n",
       "  const height = x_max - x_min + options.node_y_size + options.margin * 2 +\n",
       "      options.node_y_offset - options.node_y_size;\n",
       "\n",
       "  const plot = d3.select(canvas_id);\n",
       "\n",
       "  // Tool tip\n",
       "  options.tooltip = plot.append('div')\n",
       "                        .attr('width', 100)\n",
       "                        .attr('height', 100)\n",
       "                        .style('padding', '4px')\n",
       "                        .style('background', '#fff')\n",
       "                        .style('box-shadow', '4px 4px 0px rgba(0,0,0,0.1)')\n",
       "                        .style('border', '1px solid black')\n",
       "                        .style('font-family', 'sans-serif')\n",
       "                        .style('font-size', options.font_size)\n",
       "                        .style('position', 'absolute')\n",
       "                        .style('z-index', '10')\n",
       "                        .attr('pointer-events', 'none')\n",
       "                        .style('display', 'none');\n",
       "\n",
       "  // Create canvas\n",
       "  const svg = plot.append('svg').attr('width', width).attr('height', height);\n",
       "  const graph =\n",
       "      svg.style('overflow', 'visible')\n",
       "          .append('g')\n",
       "          .attr('font-family', 'sans-serif')\n",
       "          .attr('font-size', options.font_size)\n",
       "          .attr(\n",
       "              'transform',\n",
       "              () => `translate(${options.margin},${\n",
       "                  - x_min + options.node_y_offset / 2 + options.margin})`);\n",
       "\n",
       "  // Plot bounding box.\n",
       "  if (options.show_plot_bounding_box) {\n",
       "    svg.append('rect')\n",
       "        .attr('width', width)\n",
       "        .attr('height', height)\n",
       "        .attr('fill', 'none')\n",
       "        .attr('stroke-width', 1.0)\n",
       "        .attr('stroke', 'black');\n",
       "  }\n",
       "\n",
       "  // Draw the edges.\n",
       "  display_edges(options, graph, tree_struct);\n",
       "\n",
       "  // Draw the nodes.\n",
       "  display_nodes(options, graph, tree_struct);\n",
       "}\n",
       "\n",
       "/**\n",
       " * Draw the nodes of the tree.\n",
       " * @param {!options} options Dictionary of configurations.\n",
       " * @param {!graph} graph D3 search handle containing the graph.\n",
       " * @param {!tree_struct} tree_struct Structure of the tree (node placement,\n",
       " *     data, etc.).\n",
       " */\n",
       "function display_nodes(options, graph, tree_struct) {\n",
       "  const nodes = graph.append('g')\n",
       "                    .selectAll('g')\n",
       "                    .data(tree_struct.descendants())\n",
       "                    .join('g')\n",
       "                    .attr('transform', d => `translate(${d.y},${d.x})`);\n",
       "\n",
       "  nodes.append('rect')\n",
       "      .attr('x', 0.5)\n",
       "      .attr('y', 0.5)\n",
       "      .attr('width', options.node_x_size)\n",
       "      .attr('height', options.node_y_size)\n",
       "      .attr('stroke', 'lightgrey')\n",
       "      .attr('stroke-width', 1)\n",
       "      .attr('fill', 'white')\n",
       "      .attr('y', -options.node_y_size / 2);\n",
       "\n",
       "  // Brackets on the right of condition nodes without children.\n",
       "  non_leaf_node_without_children =\n",
       "      nodes.filter(node => node.data.condition != null && node.children == null)\n",
       "          .append('g')\n",
       "          .attr('transform', `translate(${options.node_x_size},0)`);\n",
       "\n",
       "  non_leaf_node_without_children.append('path')\n",
       "      .attr('d', 'M0,0 C 10,0 0,10 10,10')\n",
       "      .attr('fill', 'none')\n",
       "      .attr('stroke-width', 1.0)\n",
       "      .attr('stroke', '#F00');\n",
       "\n",
       "  non_leaf_node_without_children.append('path')\n",
       "      .attr('d', 'M0,0 C 10,0 0,-10 10,-10')\n",
       "      .attr('fill', 'none')\n",
       "      .attr('stroke-width', 1.0)\n",
       "      .attr('stroke', '#0F0');\n",
       "\n",
       "  const node_content = nodes.append('g').attr(\n",
       "      'transform',\n",
       "      `translate(0,${options.node_padding - options.node_y_size / 2})`);\n",
       "\n",
       "  node_content.append(node => create_node_element(options, node));\n",
       "}\n",
       "\n",
       "/**\n",
       " * Creates the D3 content for a single node.\n",
       " * @param {!options} options Dictionary of configurations.\n",
       " * @param {!node} node Node to draw.\n",
       " * @return {!d3} D3 content.\n",
       " */\n",
       "function create_node_element(options, node) {\n",
       "  // Output accumulator.\n",
       "  let output = {\n",
       "    // Content to draw.\n",
       "    content: d3.create('svg:g'),\n",
       "    // Vertical offset to the next element to draw.\n",
       "    vertical_offset: 0\n",
       "  };\n",
       "\n",
       "  // Conditions.\n",
       "  if (node.data.condition != null) {\n",
       "    display_condition(options, node.data.condition, output);\n",
       "  }\n",
       "\n",
       "  // Values.\n",
       "  if (node.data.value != null) {\n",
       "    display_value(options, node.data.value, output);\n",
       "  }\n",
       "\n",
       "  // Explanations.\n",
       "  if (node.data.explanation != null) {\n",
       "    display_explanation(options, node.data.explanation, output);\n",
       "  }\n",
       "\n",
       "  return output.content.node();\n",
       "}\n",
       "\n",
       "\n",
       "/**\n",
       " * Adds a single line of text inside of a node.\n",
       " * @param {!options} options Dictionary of configurations.\n",
       " * @param {string} text Text to display.\n",
       " * @param {!output} output Output display accumulator.\n",
       " */\n",
       "function display_node_text(options, text, output) {\n",
       "  output.content.append('text')\n",
       "      .attr('x', options.node_padding)\n",
       "      .attr('y', output.vertical_offset)\n",
       "      .attr('alignment-baseline', 'hanging')\n",
       "      .text(text);\n",
       "  output.vertical_offset += 10;\n",
       "}\n",
       "\n",
       "/**\n",
       " * Adds a single line of text inside of a node with a tooltip.\n",
       " * @param {!options} options Dictionary of configurations.\n",
       " * @param {string} text Text to display.\n",
       " * @param {string} tooltip Text in the Tooltip.\n",
       " * @param {!output} output Output display accumulator.\n",
       " */\n",
       "function display_node_text_with_tooltip(options, text, tooltip, output) {\n",
       "  const item = output.content.append('text')\n",
       "                   .attr('x', options.node_padding)\n",
       "                   .attr('alignment-baseline', 'hanging')\n",
       "                   .text(text);\n",
       "\n",
       "  add_tooltip(options, item, () => tooltip);\n",
       "  output.vertical_offset += 10;\n",
       "}\n",
       "\n",
       "/**\n",
       " * Adds a tooltip to a dom element.\n",
       " * @param {!options} options Dictionary of configurations.\n",
       " * @param {!dom} target Dom element to equip with a tooltip.\n",
       " * @param {!func} get_content Generates the html content of the tooltip.\n",
       " */\n",
       "function add_tooltip(options, target, get_content) {\n",
       "  function show(d) {\n",
       "    options.tooltip.style('display', 'block');\n",
       "    options.tooltip.html(get_content());\n",
       "  }\n",
       "\n",
       "  function hide(d) {\n",
       "    options.tooltip.style('display', 'none');\n",
       "  }\n",
       "\n",
       "  function move(d) {\n",
       "    options.tooltip.style('display', 'block');\n",
       "    options.tooltip.style('left', (d.pageX + 5) + 'px');\n",
       "    options.tooltip.style('top', d.pageY + 'px');\n",
       "  }\n",
       "\n",
       "  target.on('mouseover', show);\n",
       "  target.on('mouseout', hide);\n",
       "  target.on('mousemove', move);\n",
       "}\n",
       "\n",
       "/**\n",
       " * Adds a condition inside of a node.\n",
       " * @param {!options} options Dictionary of configurations.\n",
       " * @param {!condition} condition Condition to display.\n",
       " * @param {!output} output Output display accumulator.\n",
       " */\n",
       "function display_condition(options, condition, output) {\n",
       "  threshold_format = d3.format('r');\n",
       "\n",
       "  if (condition.type === 'IS_MISSING') {\n",
       "    display_node_text(options, `${condition.attribute} is missing`, output);\n",
       "    return;\n",
       "  }\n",
       "\n",
       "  if (condition.type === 'IS_TRUE') {\n",
       "    display_node_text(options, `${condition.attribute} is true`, output);\n",
       "    return;\n",
       "  }\n",
       "\n",
       "  if (condition.type === 'NUMERICAL_IS_HIGHER_THAN') {\n",
       "    format = d3.format('r');\n",
       "    display_node_text(\n",
       "        options,\n",
       "        `${condition.attribute} >= ${threshold_format(condition.threshold)}`,\n",
       "        output);\n",
       "    return;\n",
       "  }\n",
       "\n",
       "  if (condition.type === 'CATEGORICAL_IS_IN') {\n",
       "    display_node_text_with_tooltip(\n",
       "        options, `${condition.attribute} in [...]`,\n",
       "        `${condition.attribute} in [${condition.mask}]`, output);\n",
       "    return;\n",
       "  }\n",
       "\n",
       "  if (condition.type === 'CATEGORICAL_SET_CONTAINS') {\n",
       "    display_node_text_with_tooltip(\n",
       "        options, `${condition.attribute} intersect [...]`,\n",
       "        `${condition.attribute} intersect [${condition.mask}]`, output);\n",
       "    return;\n",
       "  }\n",
       "\n",
       "  if (condition.type === 'NUMERICAL_SPARSE_OBLIQUE') {\n",
       "    display_node_text_with_tooltip(\n",
       "        options, `Sparse oblique split...`,\n",
       "        `[${condition.attributes}]*[${condition.weights}]>=${\n",
       "            threshold_format(condition.threshold)}`,\n",
       "        output);\n",
       "    return;\n",
       "  }\n",
       "\n",
       "  display_node_text(\n",
       "      options, `Non supported condition ${condition.type}`, output);\n",
       "}\n",
       "\n",
       "/**\n",
       " * Adds a value inside of a node.\n",
       " * @param {!options} options Dictionary of configurations.\n",
       " * @param {!value} value Value to display.\n",
       " * @param {!output} output Output display accumulator.\n",
       " */\n",
       "function display_value(options, value, output) {\n",
       "  if (value.type === 'PROBABILITY') {\n",
       "    const left_margin = 0;\n",
       "    const right_margin = 50;\n",
       "    const plot_width = options.node_x_size - options.node_padding * 2 -\n",
       "        left_margin - right_margin;\n",
       "\n",
       "    let cusum = Array.from(d3.cumsum(value.distribution));\n",
       "    cusum.unshift(0);\n",
       "    const distribution_plot = output.content.append('g').attr(\n",
       "        'transform', `translate(0,${output.vertical_offset + 0.5})`);\n",
       "\n",
       "    distribution_plot.selectAll('rect')\n",
       "        .data(value.distribution)\n",
       "        .join('rect')\n",
       "        .attr('height', 10)\n",
       "        .attr(\n",
       "            'x',\n",
       "            (d, i) =>\n",
       "                (cusum[i] * plot_width + left_margin + options.node_padding))\n",
       "        .attr('width', (d, i) => d * plot_width)\n",
       "        .style('fill', (d, i) => d3.schemeSet1[i]);\n",
       "\n",
       "    const num_examples =\n",
       "        output.content.append('g')\n",
       "            .attr('transform', `translate(0,${output.vertical_offset})`)\n",
       "            .append('text')\n",
       "            .attr('x', options.node_x_size - options.node_padding)\n",
       "            .attr('alignment-baseline', 'hanging')\n",
       "            .attr('text-anchor', 'end')\n",
       "            .text(`(${value.num_examples})`);\n",
       "\n",
       "    const distribution_details = d3.create('ul');\n",
       "    distribution_details.selectAll('li')\n",
       "        .data(value.distribution)\n",
       "        .join('li')\n",
       "        .append('span')\n",
       "        .text(\n",
       "            (d, i) =>\n",
       "                'class ' + i + ': ' + d3.format('.3%')(value.distribution[i]));\n",
       "\n",
       "    add_tooltip(options, distribution_plot, () => distribution_details.html());\n",
       "    add_tooltip(options, num_examples, () => 'Number of examples');\n",
       "\n",
       "    output.vertical_offset += 10;\n",
       "    return;\n",
       "  }\n",
       "\n",
       "  if (value.type === 'REGRESSION') {\n",
       "    display_node_text(\n",
       "        options,\n",
       "        'value: ' + d3.format('r')(value.value) + ` (` +\n",
       "            d3.format('.6')(value.num_examples) + `)`,\n",
       "        output);\n",
       "    return;\n",
       "  }\n",
       "\n",
       "  display_node_text(options, `Non supported value ${value.type}`, output);\n",
       "}\n",
       "\n",
       "/**\n",
       " * Adds an explanation inside of a node.\n",
       " * @param {!options} options Dictionary of configurations.\n",
       " * @param {!explanation} explanation Explanation to display.\n",
       " * @param {!output} output Output display accumulator.\n",
       " */\n",
       "function display_explanation(options, explanation, output) {\n",
       "  // Margin before the explanation.\n",
       "  output.vertical_offset += 10;\n",
       "\n",
       "  display_node_text(\n",
       "      options, `Non supported explanation ${explanation.type}`, output);\n",
       "}\n",
       "\n",
       "\n",
       "/**\n",
       " * Draw the edges of the tree.\n",
       " * @param {!options} options Dictionary of configurations.\n",
       " * @param {!graph} graph D3 search handle containing the graph.\n",
       " * @param {!tree_struct} tree_struct Structure of the tree (node placement,\n",
       " *     data, etc.).\n",
       " */\n",
       "function display_edges(options, graph, tree_struct) {\n",
       "  // Draw an edge between a parent and a child node with a bezier.\n",
       "  function draw_single_edge(d) {\n",
       "    return 'M' + (d.source.y + options.node_x_size) + ',' + d.source.x + ' C' +\n",
       "        (d.source.y + options.node_x_size + options.edge_rounding) + ',' +\n",
       "        d.source.x + ' ' + (d.target.y - options.edge_rounding) + ',' +\n",
       "        d.target.x + ' ' + d.target.y + ',' + d.target.x;\n",
       "  }\n",
       "\n",
       "  graph.append('g')\n",
       "      .attr('fill', 'none')\n",
       "      .attr('stroke-width', 1.2)\n",
       "      .selectAll('path')\n",
       "      .data(tree_struct.links())\n",
       "      .join('path')\n",
       "      .attr('d', draw_single_edge)\n",
       "      .attr(\n",
       "          'stroke', d => (d.target === d.source.children[0]) ? '#0F0' : '#F00');\n",
       "}\n",
       "\n",
       "display_tree({\"margin\": 10, \"node_x_size\": 160, \"node_y_size\": 28, \"node_x_offset\": 180, \"node_y_offset\": 33, \"font_size\": 10, \"edge_rounding\": 20, \"node_padding\": 2, \"show_plot_bounding_box\": false}, {\"value\": {\"type\": \"REGRESSION\", \"value\": 179358.15625, \"num_examples\": 1306.0, \"standard_deviation\": 76158.29252370873}, \"condition\": {\"type\": \"NUMERICAL_IS_HIGHER_THAN\", \"attribute\": \"GarageCars\", \"threshold\": 2.5}, \"children\": [{\"value\": {\"type\": \"REGRESSION\", \"value\": 307354.84375, \"num_examples\": 159.0, \"standard_deviation\": 97082.15250426857}, \"condition\": {\"type\": \"CATEGORICAL_IS_IN\", \"attribute\": \"BsmtQual\", \"mask\": [\"Ex\"]}, \"children\": [{\"value\": {\"type\": \"REGRESSION\", \"value\": 369089.15625, \"num_examples\": 72.0, \"standard_deviation\": 90467.60032172962}, \"condition\": {\"type\": \"NUMERICAL_IS_HIGHER_THAN\", \"attribute\": \"OpenPorchSF\", \"threshold\": 340.0}, \"children\": [{\"value\": {\"type\": \"REGRESSION\", \"value\": 184750.0, \"num_examples\": 5.0}}, {\"value\": {\"type\": \"REGRESSION\", \"value\": 382845.8125, \"num_examples\": 67.0, \"standard_deviation\": 77910.37265008666}, \"condition\": {\"type\": \"NUMERICAL_IS_HIGHER_THAN\", \"attribute\": \"GrLivArea\", \"threshold\": 2775.0}}]}, {\"value\": {\"type\": \"REGRESSION\", \"value\": 256264.375, \"num_examples\": 87.0, \"standard_deviation\": 68464.15234402998}, \"condition\": {\"type\": \"CATEGORICAL_IS_IN\", \"attribute\": \"KitchenQual\", \"mask\": [\"Gd\", \"Ex\"]}, \"children\": [{\"value\": {\"type\": \"REGRESSION\", \"value\": 278022.53125, \"num_examples\": 71.0, \"standard_deviation\": 53713.88243769427}, \"condition\": {\"type\": \"NUMERICAL_IS_HIGHER_THAN\", \"attribute\": \"GrLivArea\", \"threshold\": 2354.5}}, {\"value\": {\"type\": \"REGRESSION\", \"value\": 159712.5, \"num_examples\": 16.0, \"standard_deviation\": 35515.7118998057}, \"condition\": {\"type\": \"NUMERICAL_IS_HIGHER_THAN\", \"attribute\": \"MasVnrArea\", \"threshold\": 35.0}}]}]}, {\"value\": {\"type\": \"REGRESSION\", \"value\": 161614.9375, \"num_examples\": 1147.0, \"standard_deviation\": 52074.02039819698}, \"condition\": {\"type\": \"NUMERICAL_IS_HIGHER_THAN\", \"attribute\": \"OverallQual\", \"threshold\": 6.5}, \"children\": [{\"value\": {\"type\": \"REGRESSION\", \"value\": 210236.9375, \"num_examples\": 342.0, \"standard_deviation\": 49534.03357521118}, \"condition\": {\"type\": \"NUMERICAL_IS_HIGHER_THAN\", \"attribute\": \"BsmtFinSF1\", \"threshold\": 1093.0}, \"children\": [{\"value\": {\"type\": \"REGRESSION\", \"value\": 287850.0, \"num_examples\": 36.0, \"standard_deviation\": 54966.06532519249}, \"condition\": {\"type\": \"CATEGORICAL_IS_IN\", \"attribute\": \"Neighborhood\", \"mask\": [\"Somerst\", \"NridgHt\", \"SawyerW\", \"NoRidge\", \"ClearCr\", \"Veenker\"]}}, {\"value\": {\"type\": \"REGRESSION\", \"value\": 201105.984375, \"num_examples\": 306.0, \"standard_deviation\": 39934.738061808566}, \"condition\": {\"type\": \"NUMERICAL_IS_HIGHER_THAN\", \"attribute\": \"2ndFlrSF\", \"threshold\": 1102.0}}]}, {\"value\": {\"type\": \"REGRESSION\", \"value\": 140958.140625, \"num_examples\": 805.0, \"standard_deviation\": 37286.33547929495}, \"condition\": {\"type\": \"NUMERICAL_IS_HIGHER_THAN\", \"attribute\": \"GrLivArea\", \"threshold\": 1378.5}, \"children\": [{\"value\": {\"type\": \"REGRESSION\", \"value\": 165131.75, \"num_examples\": 328.0, \"standard_deviation\": 35422.616151783244}, \"condition\": {\"type\": \"NUMERICAL_IS_HIGHER_THAN\", \"attribute\": \"OverallQual\", \"threshold\": 5.5}}, {\"value\": {\"type\": \"REGRESSION\", \"value\": 124335.625, \"num_examples\": 477.0, \"standard_deviation\": 28378.09818348809}, \"condition\": {\"type\": \"CATEGORICAL_IS_IN\", \"attribute\": \"Neighborhood\", \"mask\": [\"NAmes\", \"CollgCr\", \"Somerst\", \"NridgHt\", \"Gilbert\", \"NWAmes\", \"Sawyer\", \"SawyerW\", \"Mitchel\", \"Crawfor\", \"Timber\", \"ClearCr\", \"Veenker\", \"NPkVill\"]}}]}]}]}, \"#tree_plot_0dfb73ab9402403d8df7faf48f9b4e81\")\n",
       "</script>\n"
      ],
      "text/plain": [
       "<IPython.core.display.HTML object>"
      ]
     },
     "execution_count": 12,
     "metadata": {},
     "output_type": "execute_result"
    }
   ],
   "source": [
    "tfdf.model_plotter.plot_model_in_colab(model, tree_idx=0, max_depth=3)"
   ]
  },
  {
   "cell_type": "markdown",
   "id": "36abb126",
   "metadata": {
    "id": "xNmZhU32RdYC",
    "papermill": {
     "duration": 0.009156,
     "end_time": "2022-09-16T20:46:42.530056",
     "exception": false,
     "start_time": "2022-09-16T20:46:42.520900",
     "status": "completed"
    },
    "tags": []
   },
   "source": [
    "# Evaluate the model"
   ]
  },
  {
   "cell_type": "code",
   "execution_count": 13,
   "id": "7d6ff99f",
   "metadata": {
    "execution": {
     "iopub.execute_input": "2022-09-16T20:46:42.551563Z",
     "iopub.status.busy": "2022-09-16T20:46:42.550791Z",
     "iopub.status.idle": "2022-09-16T20:46:43.276904Z",
     "shell.execute_reply": "2022-09-16T20:46:43.274962Z"
    },
    "id": "_2Xzl1JSsm8q",
    "outputId": "7b9d49bf-496e-41e2-ad3a-98753b51a15b",
    "papermill": {
     "duration": 0.740294,
     "end_time": "2022-09-16T20:46:43.279708",
     "exception": false,
     "start_time": "2022-09-16T20:46:42.539414",
     "status": "completed"
    },
    "tags": []
   },
   "outputs": [
    {
     "name": "stdout",
     "output_type": "stream",
     "text": [
      "1/1 [==============================] - 1s 711ms/step - loss: 0.0000e+00 - mse: 993684800.0000\n",
      "{'loss': 0.0, 'mse': 993684800.0}\n",
      "MSE: 993684800.00\n",
      "RMSE: 31522.77\n"
     ]
    }
   ],
   "source": [
    "import math     #built-in module that you can use for \n",
    "                #mathematical tasks (eg. square root)\n",
    "                \n",
    "evaluation = model.evaluate(val_ds, return_dict=True)\n",
    "\n",
    "print(evaluation)\n",
    "print(f\"MSE: {evaluation['mse']:.2f}\")\n",
    "print(f\"RMSE: {math.sqrt(evaluation['mse']):.2f}\")"
   ]
  },
  {
   "cell_type": "markdown",
   "id": "1caa74c5",
   "metadata": {
    "id": "hI8tXiZQGKmf",
    "papermill": {
     "duration": 0.009228,
     "end_time": "2022-09-16T20:46:43.299368",
     "exception": false,
     "start_time": "2022-09-16T20:46:43.290140",
     "status": "completed"
    },
    "tags": []
   },
   "source": [
    "# Test Set Prediction"
   ]
  },
  {
   "cell_type": "code",
   "execution_count": 14,
   "id": "84182814",
   "metadata": {
    "execution": {
     "iopub.execute_input": "2022-09-16T20:46:43.319801Z",
     "iopub.status.busy": "2022-09-16T20:46:43.319313Z",
     "iopub.status.idle": "2022-09-16T20:46:43.354036Z",
     "shell.execute_reply": "2022-09-16T20:46:43.352587Z"
    },
    "id": "1N0iGUeNGNpl",
    "papermill": {
     "duration": 0.048473,
     "end_time": "2022-09-16T20:46:43.357064",
     "exception": false,
     "start_time": "2022-09-16T20:46:43.308591",
     "status": "completed"
    },
    "tags": []
   },
   "outputs": [],
   "source": [
    "test_file_path = \"../input/house-prices-advanced-regression-techniques/test.csv\"\n",
    "test_data = pd.read_csv(test_file_path)\n",
    "ids = test_data.pop('Id')"
   ]
  },
  {
   "cell_type": "code",
   "execution_count": 15,
   "id": "4ecedf8f",
   "metadata": {
    "execution": {
     "iopub.execute_input": "2022-09-16T20:46:43.378760Z",
     "iopub.status.busy": "2022-09-16T20:46:43.378374Z",
     "iopub.status.idle": "2022-09-16T20:46:43.505563Z",
     "shell.execute_reply": "2022-09-16T20:46:43.504509Z"
    },
    "id": "g1EJrlg3GVTf",
    "papermill": {
     "duration": 0.141179,
     "end_time": "2022-09-16T20:46:43.508464",
     "exception": false,
     "start_time": "2022-09-16T20:46:43.367285",
     "status": "completed"
    },
    "tags": []
   },
   "outputs": [],
   "source": [
    "test_ds = tfdf.keras.pd_dataframe_to_tf_dataset(\n",
    "    test_data, \n",
    "    task = tfdf.keras.Task.REGRESSION)"
   ]
  },
  {
   "cell_type": "code",
   "execution_count": 16,
   "id": "54c883a2",
   "metadata": {
    "execution": {
     "iopub.execute_input": "2022-09-16T20:46:43.530370Z",
     "iopub.status.busy": "2022-09-16T20:46:43.529923Z",
     "iopub.status.idle": "2022-09-16T20:46:44.488046Z",
     "shell.execute_reply": "2022-09-16T20:46:44.486125Z"
    },
    "id": "s08XQVlPGc7h",
    "outputId": "a08aee6f-ccfe-47b6-c6bd-e45f18401bb7",
    "papermill": {
     "duration": 0.972085,
     "end_time": "2022-09-16T20:46:44.490621",
     "exception": false,
     "start_time": "2022-09-16T20:46:43.518536",
     "status": "completed"
    },
    "tags": []
   },
   "outputs": [
    {
     "name": "stdout",
     "output_type": "stream",
     "text": [
      "2/2 [==============================] - 1s 26ms/step\n"
     ]
    },
    {
     "data": {
      "text/html": [
       "<div>\n",
       "<style scoped>\n",
       "    .dataframe tbody tr th:only-of-type {\n",
       "        vertical-align: middle;\n",
       "    }\n",
       "\n",
       "    .dataframe tbody tr th {\n",
       "        vertical-align: top;\n",
       "    }\n",
       "\n",
       "    .dataframe thead th {\n",
       "        text-align: right;\n",
       "    }\n",
       "</style>\n",
       "<table border=\"1\" class=\"dataframe\">\n",
       "  <thead>\n",
       "    <tr style=\"text-align: right;\">\n",
       "      <th></th>\n",
       "      <th>Id</th>\n",
       "      <th>SalePrice</th>\n",
       "    </tr>\n",
       "  </thead>\n",
       "  <tbody>\n",
       "    <tr>\n",
       "      <th>0</th>\n",
       "      <td>1461</td>\n",
       "      <td>126086.687500</td>\n",
       "    </tr>\n",
       "    <tr>\n",
       "      <th>1</th>\n",
       "      <td>1462</td>\n",
       "      <td>156190.312500</td>\n",
       "    </tr>\n",
       "    <tr>\n",
       "      <th>2</th>\n",
       "      <td>1463</td>\n",
       "      <td>180349.140625</td>\n",
       "    </tr>\n",
       "    <tr>\n",
       "      <th>3</th>\n",
       "      <td>1464</td>\n",
       "      <td>183884.250000</td>\n",
       "    </tr>\n",
       "    <tr>\n",
       "      <th>4</th>\n",
       "      <td>1465</td>\n",
       "      <td>194836.250000</td>\n",
       "    </tr>\n",
       "  </tbody>\n",
       "</table>\n",
       "</div>"
      ],
      "text/plain": [
       "     Id      SalePrice\n",
       "0  1461  126086.687500\n",
       "1  1462  156190.312500\n",
       "2  1463  180349.140625\n",
       "3  1464  183884.250000\n",
       "4  1465  194836.250000"
      ]
     },
     "execution_count": 16,
     "metadata": {},
     "output_type": "execute_result"
    }
   ],
   "source": [
    "preds = model.predict(test_ds)\n",
    "output = pd.DataFrame({'Id': ids,\n",
    "                       'SalePrice': preds.squeeze()})\n",
    "\n",
    "output.head()"
   ]
  },
  {
   "cell_type": "code",
   "execution_count": 17,
   "id": "63f7f0e4",
   "metadata": {
    "execution": {
     "iopub.execute_input": "2022-09-16T20:46:44.522126Z",
     "iopub.status.busy": "2022-09-16T20:46:44.521254Z",
     "iopub.status.idle": "2022-09-16T20:46:44.906545Z",
     "shell.execute_reply": "2022-09-16T20:46:44.904858Z"
    },
    "papermill": {
     "duration": 0.403564,
     "end_time": "2022-09-16T20:46:44.909224",
     "exception": false,
     "start_time": "2022-09-16T20:46:44.505660",
     "status": "completed"
    },
    "tags": []
   },
   "outputs": [
    {
     "name": "stdout",
     "output_type": "stream",
     "text": [
      "2/2 [==============================] - 0s 29ms/step\n"
     ]
    },
    {
     "data": {
      "text/html": [
       "<div>\n",
       "<style scoped>\n",
       "    .dataframe tbody tr th:only-of-type {\n",
       "        vertical-align: middle;\n",
       "    }\n",
       "\n",
       "    .dataframe tbody tr th {\n",
       "        vertical-align: top;\n",
       "    }\n",
       "\n",
       "    .dataframe thead th {\n",
       "        text-align: right;\n",
       "    }\n",
       "</style>\n",
       "<table border=\"1\" class=\"dataframe\">\n",
       "  <thead>\n",
       "    <tr style=\"text-align: right;\">\n",
       "      <th></th>\n",
       "      <th>Id</th>\n",
       "      <th>SalePrice</th>\n",
       "    </tr>\n",
       "  </thead>\n",
       "  <tbody>\n",
       "    <tr>\n",
       "      <th>0</th>\n",
       "      <td>1461</td>\n",
       "      <td>126086.687500</td>\n",
       "    </tr>\n",
       "    <tr>\n",
       "      <th>1</th>\n",
       "      <td>1462</td>\n",
       "      <td>156190.312500</td>\n",
       "    </tr>\n",
       "    <tr>\n",
       "      <th>2</th>\n",
       "      <td>1463</td>\n",
       "      <td>180349.140625</td>\n",
       "    </tr>\n",
       "    <tr>\n",
       "      <th>3</th>\n",
       "      <td>1464</td>\n",
       "      <td>183884.250000</td>\n",
       "    </tr>\n",
       "    <tr>\n",
       "      <th>4</th>\n",
       "      <td>1465</td>\n",
       "      <td>194836.250000</td>\n",
       "    </tr>\n",
       "  </tbody>\n",
       "</table>\n",
       "</div>"
      ],
      "text/plain": [
       "     Id      SalePrice\n",
       "0  1461  126086.687500\n",
       "1  1462  156190.312500\n",
       "2  1463  180349.140625\n",
       "3  1464  183884.250000\n",
       "4  1465  194836.250000"
      ]
     },
     "execution_count": 17,
     "metadata": {},
     "output_type": "execute_result"
    }
   ],
   "source": [
    "sample_submission_df = pd.read_csv('../input/house-prices-advanced-regression-techniques/sample_submission.csv')\n",
    "sample_submission_df['SalePrice'] = model.predict(test_ds)\n",
    "sample_submission_df.to_csv('/kaggle/working/submission.csv', index=False)\n",
    "sample_submission_df.head()"
   ]
  },
  {
   "cell_type": "markdown",
   "id": "80b4e147",
   "metadata": {
    "id": "iuqmbhp8SoU9",
    "papermill": {
     "duration": 0.009676,
     "end_time": "2022-09-16T20:46:44.929599",
     "exception": false,
     "start_time": "2022-09-16T20:46:44.919923",
     "status": "completed"
    },
    "tags": []
   },
   "source": [
    "# References\n",
    "* Dive deep into \n",
    "    * [Random Forests](https://www.tensorflow.org/decision_forests/api_docs/python/tfdf/keras/RandomForestModel)\n",
    "    * [Gradient Boosted Trees](https://www.tensorflow.org/decision_forests/api_docs/python/tfdf/keras/GradientBoostedTreesModel)\n",
    "    * [CART](https://www.tensorflow.org/decision_forests/api_docs/python/tfdf/keras/CartModel)\n",
    "    * [Keras API](https://www.tensorflow.org/api_docs/python/tf/keras)\n",
    "    * [TensorFlow Decision Forests (TF-DF)](https://www.tensorflow.org/decision_forests).\n",
    "* [Detailed exploratory data analysis with python](https://www.kaggle.com/code/ekami66/detailed-exploratory-data-analysis-with-python) by Tuatini Godard.\n",
    "*   TensorFlow Decision Forests tutorials which are a set of 3 very interesting tutorials.\n",
    "    * [Beginner Tutorial](https://www.tensorflow.org/decision_forests/tutorials/beginner_colab)\n",
    "    * [Intermediate Tutorial](https://www.tensorflow.org/decision_forests/tutorials/intermediate_colab)\n",
    "    * [Advanced Tutorial](https://www.tensorflow.org/decision_forests/tutorials/advanced_colab)\n",
    "*   The [TensorFlow Forum](https://discuss.tensorflow.org/) where one can get in touch with the TensorFlow community. Check it out if you haven't yet."
   ]
  }
 ],
 "metadata": {
  "kernelspec": {
   "display_name": "Python 3",
   "language": "python",
   "name": "python3"
  },
  "language_info": {
   "codemirror_mode": {
    "name": "ipython",
    "version": 3
   },
   "file_extension": ".py",
   "mimetype": "text/x-python",
   "name": "python",
   "nbconvert_exporter": "python",
   "pygments_lexer": "ipython3",
   "version": "3.7.12"
  },
  "papermill": {
   "default_parameters": {},
   "duration": 169.489612,
   "end_time": "2022-09-16T20:46:48.041617",
   "environment_variables": {},
   "exception": null,
   "input_path": "__notebook__.ipynb",
   "output_path": "__notebook__.ipynb",
   "parameters": {},
   "start_time": "2022-09-16T20:43:58.552005",
   "version": "2.3.4"
  }
 },
 "nbformat": 4,
 "nbformat_minor": 5
}
